{
 "cells": [
  {
   "cell_type": "code",
   "execution_count": 21,
   "metadata": {},
   "outputs": [],
   "source": [
    "# You will need to import these libraries for the program to work\n",
    "import requests\n",
    "import pandas as pd\n",
    "import numpy as np"
   ]
  },
  {
   "cell_type": "code",
   "execution_count": null,
   "metadata": {},
   "outputs": [],
   "source": [
    "\n",
    "# Read in the API key from the api.keys file in the same directory as this notebook.  Change if necessary\n",
    "with open(\"api.keys\", \"r\") as keyfile:\n",
    "    api_key = keyfile.readlines()[1]\n",
    "\n",
    "# Create a list for housing the dataframes collected from the API\n",
    "dataframes = []\n",
    "stock_list = [\"MSFT\", \"AAPL\", \"META\", \"NFLX\"]\n",
    "\n",
    "# This is the for loop to get the dataframe.  You will need to place the api key variable in curly brackets in order for it to read correctly.\n",
    "for stock_name in stock_list:\n",
    "    url = 'https://www.alphavantage.co/query?function=TIME_SERIES_DAILY&symbol=' + \\\n",
    "        stock_name + '&interval=1day&apikey={api_key}'\n",
    "    r = requests.get(url)\n",
    "    data = r.json()\n",
    "    dataframe = pd.DataFrame.from_dict(data[\"Time Series (Daily)\"]).transpose()\n",
    "    dataframe.columns = [\"Open\", \"High\", \"Low\", \"Close\", \"Volume\"]\n",
    "    dataframe[\"Stock Name\"] = stock_name\n",
    "    dataframes.append(dataframe)\n",
    "\n",
    "# Concatentate all of the dataframes into one large dataframe\n",
    "final_dataframe = pd.concat(dataframes)"
   ]
  },
  {
   "cell_type": "code",
   "execution_count": 6,
   "metadata": {},
   "outputs": [],
   "source": [
    "# Write the final dataframe to a file\n",
    "with open(\"stockmarketdata.csv\", \"w\") as file:\n",
    "    file.write(final_dataframe.to_csv(lineterminator = '\\n', index = True))"
   ]
  }
 ],
 "metadata": {
  "kernelspec": {
   "display_name": "Python 3.10.8 64-bit",
   "language": "python",
   "name": "python3"
  },
  "language_info": {
   "codemirror_mode": {
    "name": "ipython",
    "version": 3
   },
   "file_extension": ".py",
   "mimetype": "text/x-python",
   "name": "python",
   "nbconvert_exporter": "python",
   "pygments_lexer": "ipython3",
   "version": "3.10.8"
  },
  "orig_nbformat": 4,
  "vscode": {
   "interpreter": {
    "hash": "31f2aee4e71d21fbe5cf8b01ff0e069b9275f58929596ceb00d14d90e3e16cd6"
   }
  }
 },
 "nbformat": 4,
 "nbformat_minor": 2
}
